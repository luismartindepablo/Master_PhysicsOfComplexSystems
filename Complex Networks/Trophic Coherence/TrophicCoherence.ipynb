{
 "cells": [
  {
   "cell_type": "code",
   "execution_count": 1,
   "metadata": {
    "collapsed": true
   },
   "outputs": [],
   "source": [
    "import pandas as pd\n",
    "import numpy as np\n",
    "from numpy import linalg as la\n",
    "from numpy import random as rand\n",
    "import matplotlib.pyplot as plt\n",
    "import networkx as nx\n",
    "import scipy as sp\n",
    "import scipy.special as sp\n",
    "\n",
    "%matplotlib inline"
   ]
  },
  {
   "cell_type": "markdown",
   "metadata": {},
   "source": [
    "# Data Analysis"
   ]
  },
  {
   "cell_type": "code",
   "execution_count": 593,
   "metadata": {
    "collapsed": true
   },
   "outputs": [],
   "source": [
    "##Param\n",
    "mu=.2; ##efficiency\n",
    "N=24; ##FoodWebs\n",
    "\n",
    "##Outputs\n",
    "qvec=np.zeros(N); ##trophic coherence\n",
    "Rvec=np.zeros(N); ##leading eig\n",
    "Svec=np.zeros(N); ##number of species\n",
    "Cvec=np.zeros(N); ##complexity\n",
    "\n",
    "##Main\n",
    "for kk in xrange(N):\n",
    "    \n",
    "    ##Import data\n",
    "    da = pd.read_excel(\"FoodWebs/\" + str(kk+1) + \".xls\");\n",
    "    A  = da.as_matrix();\n",
    "    \n",
    "    ##Output S and C\n",
    "    n, n = np.shape(A); ##size\n",
    "    np.fill_diagonal(A,np.zeros(n))\n",
    "    L=sum(sum(A)); ## Links\n",
    "    \n",
    "    Svec[kk] = n;\n",
    "    Cvec[kk] = float(L)/n**2; \n",
    "    \n",
    "    ##Eigenvec R\n",
    "    W = mu*A-np.transpose(A);\n",
    "    lamb = la.eigvals(W); \n",
    "    Rvec[kk] = max(np.real(lamb));\n",
    "\n",
    "    ###---TROPHIC COHERENCE---###\n",
    "    \n",
    "    ##Linear System\n",
    "    vvec=np.zeros(n);\n",
    "    for ii in xrange(n):\n",
    "        vvec[ii]=max([sum(A[ii,:]),1]);\n",
    "    D=np.diag(vvec)-A;\n",
    "\n",
    "    ##QR Method\n",
    "    Q, R = la.qr(D) \n",
    "    yvec = np.dot(Q.T, vvec)\n",
    "    ##Trophic levels\n",
    "    svec = la.solve(R, yvec)\n",
    "\n",
    "    ##Trophic distance\n",
    "    X=0;\n",
    "    for ii in xrange(n):\n",
    "        for jj in xrange(n):\n",
    "            if A[ii,jj] == 1: \n",
    "                x = svec[ii] - svec[jj]; x = x**2; \n",
    "                X = X + x;\n",
    "\n",
    "    ##Trophic Coherence\n",
    "    qvec[kk]=np.sqrt(X/L - 1);    "
   ]
  },
  {
   "cell_type": "code",
   "execution_count": 594,
   "metadata": {},
   "outputs": [
    {
     "data": {
      "text/plain": [
       "<matplotlib.figure.Figure at 0x151f730450>"
      ]
     },
     "metadata": {},
     "output_type": "display_data"
    },
    {
     "data": {
      "image/png": "[encoded data removed]",
      "text/plain": [
       "<matplotlib.figure.Figure at 0x151f870b50>"
      ]
     },
     "metadata": {},
     "output_type": "display_data"
    }
   ],
   "source": [
    "N=24; ##FoodWebs\n",
    "\n",
    "##Figures\n",
    "\n",
    "plt.figure(1);\n",
    "plt.figure(figsize=(20,6))\n",
    "\n",
    "Rm=sum(Rvec)/N;\n",
    "\n",
    "Svec=np.sqrt(Svec)\n",
    "plt.subplot(1,3,1);\n",
    "plt.plot(Svec,Rvec,'.');\n",
    "plt.xlabel('$\\sqrt{S}$');\n",
    "plt.ylabel('$R$');\n",
    "\n",
    "Sm=sum(Svec)/N;\n",
    "r=sum((Rvec-Rm)*(Svec-Sm))/(np.sqrt(sum((Rvec-Rm)**2))*np.sqrt(sum((Svec-Sm)**2)));\n",
    "plt.title(str(r**2));\n",
    "\n",
    "Cvec=np.sqrt(Cvec);\n",
    "Kvec=Cvec*Svec;\n",
    "plt.subplot(1,3,2);\n",
    "plt.plot(Kvec,Rvec,'.');\n",
    "plt.xlabel('$\\sqrt{K}$');\n",
    "plt.ylabel('$R$');\n",
    "\n",
    "Km=sum(Kvec)/N;\n",
    "r=sum((Rvec-Rm)*(Kvec-Km))/(np.sqrt(sum((Rvec-Rm)**2))*np.sqrt(sum((Kvec-Km)**2)));\n",
    "plt.title(str(r**2));\n",
    "\n",
    "plt.subplot(1,3,3);\n",
    "plt.plot(qvec,Rvec,'.');\n",
    "plt.xlabel('$q$');\n",
    "plt.ylabel('$R$');\n",
    "\n",
    "qm=sum(qvec)/N;\n",
    "r=sum((Rvec-Rm)*(qvec-qm))/(np.sqrt(sum((Rvec-Rm)**2))*np.sqrt(sum((qvec-qm)**2)));\n",
    "plt.title(str(r**2));"
   ]
  },
  {
   "cell_type": "markdown",
   "metadata": {},
   "source": [
    "# PPM"
   ]
  },
  {
   "cell_type": "code",
   "execution_count": 455,
   "metadata": {},
   "outputs": [],
   "source": [
    "##Basal species\n",
    "##Total species\n",
    "##Complexity\n",
    "##Trophic specialitzation\n",
    "\n",
    "def PPM(B,S,C,T):\n",
    "    Lt=int(C*S**2); ##Total Expected Links\n",
    "    L = float(Lt)/S; ##expected links per species\n",
    "    G=nx.DiGraph(); ## Start with an empty graph\n",
    "    G.add_nodes_from(list(range(B)))\n",
    "    jj=B; # Start adding the other S-B nodes. \n",
    "\n",
    "    sl=np.ones(B);\n",
    "\n",
    "    while jj<S:\n",
    "\n",
    "        target=rand.randint(0,jj,1); ## First node\n",
    "    \n",
    "        pvec=np.exp(-abs(sl[target]-sl)/T); pvec[target]=0;\n",
    "        pvec=pvec/sum(pvec);\n",
    "        \n",
    "        l1=B; l2=0; l3=0; l4=0; l5=0;\n",
    "        for zz in xrange(len(sl)-B):\n",
    "            if 1 < sl[B+zz] < 3: l2 += 1;\n",
    "            elif 3 <= sl[B+zz] < 4: l3 += 1;\n",
    "            elif 4 <= sl[B+zz] < 5: l4 += 1;\n",
    "            elif 5 <= sl[B+zz] < 6: l5 += 1;\n",
    "                \n",
    "        if sl[target] <= 1: nk = l1;\n",
    "        elif 1 < sl[target] <= 3: nk = l2;\n",
    "        elif 3 < sl[target] <= 5: nk = l3;\n",
    "        elif 4 < sl[target] <= 6: nk = l4;\n",
    "        elif 5 < sl[target] <= 7: nk = l5;   \n",
    "\n",
    "        beta=(S**2-B**2)/(2*L)-1;\n",
    "        k=int(nk*rand.beta(145,beta));\n",
    "\n",
    "        targets=rand.choice(range(jj), k, replace=False , p=pvec);\n",
    "        targets=np.concatenate((target,targets));\n",
    "        G.add_edges_from([(jj,targets[ii]) for ii in xrange(k)]);\n",
    "        G.add_node(jj);\n",
    "\n",
    "        A = nx.adjacency_matrix(G);\n",
    "        A = A.todense();\n",
    "        A = np.squeeze(np.asarray(A));\n",
    "        np.fill_diagonal(A,np.zeros(jj+1));\n",
    "\n",
    "        ##Linear System\n",
    "        vvec=np.zeros(jj+1);\n",
    "        for ii in xrange(jj+1):\n",
    "            vvec[ii]=max([sum(A[ii,:]),1]);\n",
    "        D=np.diag(vvec)-A;\n",
    "        \n",
    "        ##Trophic levels\n",
    "        sl = la.solve(D, vvec)\n",
    "\n",
    "        jj +=1;\n",
    "        \n",
    "    return G, A, sl  ##System matrix, Trophic levels"
   ]
  },
  {
   "cell_type": "code",
   "execution_count": 611,
   "metadata": {},
   "outputs": [
    {
     "data": {
      "image/png": "[encoded data removed]",
      "text/plain": [
       "<matplotlib.figure.Figure at 0x151ad84310>"
      ]
     },
     "metadata": {},
     "output_type": "display_data"
    },
    {
     "data": {
      "image/png": "[encoded data removed]",
      "text/plain": [
       "<matplotlib.figure.Figure at 0x110f6bb50>"
      ]
     },
     "metadata": {},
     "output_type": "display_data"
    }
   ],
   "source": [
    "B=50; ##Basal species\n",
    "S=100; ##Total species\n",
    "C=.1; ##Complexity\n",
    "Tvec=[0.01,10]; ##Trophic specialitzation\n",
    "\n",
    "for kk in xrange(len(Tvec)):\n",
    "    \n",
    "    T=Tvec[kk];\n",
    "\n",
    "    G, A, sl = PPM(B,S,C,T);\n",
    "\n",
    "    X=0;\n",
    "    for ii in xrange(S):\n",
    "        for jj in xrange(S):\n",
    "            if A[ii,jj] == 1: \n",
    "                x = sl[ii] - sl[jj]; x = x**2; \n",
    "                X = X + x;\n",
    "    q=np.sqrt(X/sum(sum(A)) - 1);\n",
    "\n",
    "    np.random.shuffle(sl);\n",
    "    \n",
    "    plt.figure(kk+1);\n",
    "    \n",
    "    plt.plot(sl,'o');\n",
    "    plt.ylabel('Trophic level');\n",
    "    plt.title('q='+str(round(q,3)));\n",
    "    plt.yticks(np.arange(1, int(max(sl))+1, 1.0))\n",
    "    plt.xticks(np.arange(0, 0, 1))\n",
    "    plt.plot(np.ones(len(sl)),'--k');\n",
    "    plt.plot(np.ones(len(sl))*2,'--k');\n",
    "    plt.plot(np.ones(len(sl))*3,'--k');\n",
    "    plt.plot(np.ones(len(sl))*4,'--k');"
   ]
  },
  {
   "cell_type": "code",
   "execution_count": 613,
   "metadata": {},
   "outputs": [],
   "source": [
    "B=50; ##Basal species\n",
    "S=100; ##Total species\n",
    "C=.1; ##Complexity\n",
    "N=50; mu=0.2;\n",
    "\n",
    "M=100;\n",
    "\n",
    "Tvec=np.linspace(0.01,2.5,N); ##Trophic specialitzation\n",
    "qvec=np.zeros(N);\n",
    "sdqvec=np.zeros(N);\n",
    "Rvec=np.zeros(N);\n",
    "sdRvec=np.zeros(N);\n",
    "\n",
    "for kk in xrange(N):\n",
    "    \n",
    "    T=Tvec[kk]\n",
    "    qex=np.zeros(M);\n",
    "    Rex=np.zeros(M);\n",
    "    for nn in xrange(M):\n",
    "        G, A, sl = PPM(B,S,C,T);\n",
    "\n",
    "        X=0;\n",
    "        for ii in xrange(S):\n",
    "            for jj in xrange(S):\n",
    "                if A[ii,jj] == 1: \n",
    "                    x = sl[ii] - sl[jj]; x = x**2; \n",
    "                    X = X + x;\n",
    "                    \n",
    "        q = np.sqrt(X/sum(sum(A)) - 1);\n",
    "        qex[nn] = q;\n",
    "\n",
    "        ##Eigenvec R\n",
    "        W = mu*A-np.transpose(A);\n",
    "        lamb = la.eigvals(W); \n",
    "        R = max(np.real(lamb));\n",
    "        Rex[nn] = R;\n",
    "        \n",
    "    qvec[kk] = sum(qex)/M;\n",
    "    sdqvec[kk] = (sum((qex-qvec[kk])**2)/M)**.5;\n",
    "    \n",
    "    Rvec[kk] = sum(Rex)/M;\n",
    "    sdRvec[kk] = (sum((Rex-Rvec[kk])**2)/M)**.5;"
   ]
  },
  {
   "cell_type": "code",
   "execution_count": 614,
   "metadata": {},
   "outputs": [
    {
     "data": {
      "image/png": "[encoded data removed]",
      "text/plain": [
       "<matplotlib.figure.Figure at 0x151aeda090>"
      ]
     },
     "metadata": {},
     "output_type": "display_data"
    },
    {
     "data": {
      "image/png": "[encoded data removed]",
      "text/plain": [
       "<matplotlib.figure.Figure at 0x151a79cf50>"
      ]
     },
     "metadata": {},
     "output_type": "display_data"
    }
   ],
   "source": [
    "plt.figure(1);\n",
    "plt.errorbar(Tvec,qvec,(sdqvec/M)**.5, ls='-', marker='o');\n",
    "plt.ylabel('q',fontsize=20);\n",
    "plt.xlabel('T',fontsize=20);\n",
    "plt.grid()\n",
    "\n",
    "plt.figure(2);\n",
    "plt.errorbar(Tvec,Rvec,(sdRvec/M)**.5, ls='-', marker='o');\n",
    "plt.ylabel('R',fontsize=20);\n",
    "plt.xlabel('T',fontsize=20);\n",
    "plt.grid()"
   ]
  }
 ],
 "metadata": {
  "kernelspec": {
   "display_name": "Python 2",
   "language": "python",
   "name": "python2"
  },
  "language_info": {
   "codemirror_mode": {
    "name": "ipython",
    "version": 2
   },
   "file_extension": ".py",
   "mimetype": "text/x-python",
   "name": "python",
   "nbconvert_exporter": "python",
   "pygments_lexer": "ipython2",
   "version": "2.7.13"
  }
 },
 "nbformat": 4,
 "nbformat_minor": 2
}