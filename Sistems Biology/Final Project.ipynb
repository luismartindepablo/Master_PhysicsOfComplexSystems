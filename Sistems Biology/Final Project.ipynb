{
 "cells": [
  {
   "cell_type": "code",
   "execution_count": 732,
   "metadata": {
    "collapsed": true
   },
   "outputs": [],
   "source": [
    "import numpy as np\n",
    "import matplotlib.pyplot as plt\n",
    "import copy\n",
    "\n",
    "%matplotlib inline"
   ]
  },
  {
   "cell_type": "code",
   "execution_count": 733,
   "metadata": {
    "collapsed": true
   },
   "outputs": [],
   "source": [
    "def Neigh4(L): \n",
    "    L2 = L**2; nn= [[]] * L2;\n",
    "    for ii in range(L2):\n",
    "        x=[]; \n",
    "        if (ii+1) %L != 0: x.append(ii+1); \n",
    "        if (ii+1) %L != 1: x.append(ii-1); \n",
    "        if (ii+1) in range(1,L2-L+1): x.append(ii+L);\n",
    "        if (ii+1) in range(L+1,L2+1): x.append(ii-L); \n",
    "        nn[ii]=(x*1);\n",
    "    return nn   "
   ]
  },
  {
   "cell_type": "code",
   "execution_count": 734,
   "metadata": {
    "collapsed": true
   },
   "outputs": [],
   "source": [
    "def Neigh4_P(L): \n",
    "    L2 = L**2; nn= [[]] * L2;\n",
    "    for ii in xrange(L):\n",
    "        for jj in xrange(L):\n",
    "            kk=(ii+1)+L*jj;x =[];\n",
    "            ix1=ii+1;\n",
    "            if (ix1 == L): ix1=0;\n",
    "            x.append((ix1)+L*jj);\n",
    "            iy2=jj+1\n",
    "            if (iy2 == L): iy2=0;\n",
    "            x.append((ii)+L*iy2);\n",
    "            ix3=ii-1\n",
    "            if (ix3 == -1): ix3=L-1;\n",
    "            x.append((ix3)+L*jj);\n",
    "            iy4=jj-1\n",
    "            if (iy4 == -1): iy4=L-1;  \n",
    "            x.append((ii)+L*iy4);\n",
    "            nn[kk-1]=(x*1);\n",
    "    return nn"
   ]
  },
  {
   "cell_type": "code",
   "execution_count": 735,
   "metadata": {
    "collapsed": true
   },
   "outputs": [],
   "source": [
    "def Neigh8(L): \n",
    "    L2 = L**2; nn= [[]] * L2;\n",
    "    for ii in range(L2):\n",
    "        x=[]; \n",
    "        if (ii+1) %L != 0: x.append(ii+1); \n",
    "        if (ii+1) %L != 1: x.append(ii-1); \n",
    "        if (ii+1) in range(1,L2-L+1): x.append(ii+L);\n",
    "        if (ii+1) in range(L+1,L2+1): x.append(ii-L);\n",
    "        if ((ii+1) in range(1,L2-L+1)) and ((ii+1) %L != 0): x.append(ii+L+1);\n",
    "        if ((ii+1) in range(1,L2-L+1)) and ((ii+1) %L != 1): x.append(ii+L-1);\n",
    "        if ((ii+1) in range(L+1,L2+1)) and ((ii+1) %L != 0): x.append(ii-L+1);\n",
    "        if ((ii+1) in range(L+1,L2+1)) and ((ii+1) %L != 1): x.append(ii-L-1);\n",
    "        nn[ii]=(x*1);\n",
    "    return nn   "
   ]
  },
  {
   "cell_type": "code",
   "execution_count": 736,
   "metadata": {
    "collapsed": true
   },
   "outputs": [],
   "source": [
    "def Neigh8_P(L): \n",
    "    L2 = L**2; nn= [[]] * L2;\n",
    "    for ii in xrange(L):\n",
    "        for jj in xrange(L):\n",
    "            kk=(ii+1)+L*jj;x =[];\n",
    "            ix1=ii+1;\n",
    "            if (ix1 == L): ix1=0;\n",
    "            x.append((ix1)+L*jj);\n",
    "            iy2=jj+1\n",
    "            if (iy2 == L): iy2=0;\n",
    "            x.append((ii)+L*iy2);\n",
    "            ix3=ii-1;\n",
    "            if (ix3 == -1): ix3=L-1;\n",
    "            x.append((ix3)+L*jj);\n",
    "            iy4=jj-1\n",
    "            if (iy4 == -1): iy4=L-1;  \n",
    "            x.append((ii)+L*iy4);\n",
    "            ix1=ii+1; iy2=jj+1;\n",
    "            if (ix1 == L): ix1=0;\n",
    "            if (iy2 == L): iy2=0;\n",
    "            x.append((ix1)+L*iy2);\n",
    "            ix1=ii+1;iy4=jj-1;\n",
    "            if (ix1 == L): ix1=0;\n",
    "            if (iy4 == -1): iy4=L-1;\n",
    "            x.append((ix1)+L*iy4);\n",
    "            ix3=ii-1; iy2=jj+1;\n",
    "            if (ix3 == -1): ix3=L-1;\n",
    "            if (iy2 == L): iy2=0;\n",
    "            x.append((ix3)+L*iy2);\n",
    "            ix3=ii-1; iy4=jj-1;\n",
    "            if (ix3 == -1): ix3=L-1;\n",
    "            if (iy4 == -1): iy4=L-1;\n",
    "            x.append((ix3)+L*iy4);\n",
    "            nn[kk-1]=(x*1);\n",
    "    return nn"
   ]
  },
  {
   "cell_type": "code",
   "execution_count": 737,
   "metadata": {
    "collapsed": true
   },
   "outputs": [],
   "source": [
    "def Ini(Lc, Ns, Wp, Len): ##Square size, Lipids, Water %.\n",
    "    ##Lipids \n",
    "    Lipids=[[]]*Ns; Pos=range(Lc**2); ii = 0;\n",
    "    while ii < Ns:\n",
    "        Pos2 = Pos*1; n2 = [[]] * (Lc**2); \n",
    "        for kk in xrange(Lc**2): n2[kk] = nn[kk]*1; \n",
    "        p = np.random.choice(Pos2); Pos2.remove(p);\n",
    "        x = []; x.append(p); jj = 0;\n",
    "        while jj < (Len-1): \n",
    "            p1 = np.random.choice(n2[p]);  \n",
    "            if Pos2.count(p1) == 1:\n",
    "                n2[p1].remove(p); p=p1*1;\n",
    "                Pos2.remove(p); x.append(p);\n",
    "                jj += 1; \n",
    "            else: break\n",
    "        else: Lipids[ii] = (x*1); Pos = Pos2*1; ii += 1;       \n",
    "    ##Water and Oil\n",
    "    Water = []; Oil = [];\n",
    "    for ii in Pos:\n",
    "        if np.random.random() < Wp: Water.append(ii);\n",
    "        else: Oil.append(ii);        \n",
    "    return Lipids, Water, Oil"
   ]
  },
  {
   "cell_type": "code",
   "execution_count": 738,
   "metadata": {
    "collapsed": true
   },
   "outputs": [],
   "source": [
    "def Move(Lipids,Water,Oil):    \n",
    "    move = False;\n",
    "    while move == False:\n",
    "        rn = np.random.randint(Lc**2); \n",
    "        if Water.count(rn) == 1: ##Water\n",
    "            neigh = nn[rn]; Loc = [];\n",
    "            for ii in xrange(len(neigh)):\n",
    "                if Oil.count(neigh[ii]) == 1: Loc.append(neigh[ii]);\n",
    "            if sum(Loc) != 0: \n",
    "                Loc = np.random.choice(Loc); \n",
    "                Water.remove(rn); Water.append(Loc); Oil.remove(Loc); Oil.append(rn); move = True;          \n",
    "        elif Oil.count(rn) == 1: ##Oil\n",
    "            neigh = nn[rn]; Loc = [];\n",
    "            for ii in xrange(len(neigh)):\n",
    "                if Water.count(neigh[ii]) == 1: Loc.append(neigh[ii]);      \n",
    "            if sum(Loc) != 0:\n",
    "                Loc = np.random.choice(Loc); \n",
    "                Oil.remove(rn); Oil.append(Loc); Water.remove(Loc); Water.append(rn); move = True;\n",
    "        else: ##Lipids\n",
    "            Citosol = list(np.concatenate((Water,Oil))); neighlist = [[]]*(Len+2); ##Loocking for the Lipid\n",
    "            for kk in xrange(Ns):\n",
    "                if Lipids[kk].count(rn) == 1: Ltmove = list(Lipids[kk]*1); index = kk; break;\n",
    "            x = []; ##Rept. Which are the possible moves\n",
    "            for kk in xrange(len(nn[Ltmove[0]])):\n",
    "                if Citosol.count(nn[Ltmove[0]][kk]) == 1: x.append(nn[Ltmove[0]][kk]);\n",
    "            neighlist[0] = (x*1); x = [];\n",
    "            for kk in xrange(len(nn[Ltmove[-1]])):\n",
    "                if Citosol.count(nn[Ltmove[-1]][kk]) == 1: x.append(nn[Ltmove[-1]][kk]);\n",
    "            neighlist[1] = (x*1);\n",
    "            x = []; ##Despl.\n",
    "            for kk in xrange(len(nn[Ltmove[1]])):\n",
    "                if Citosol.count(nn[Ltmove[1]][kk]) == 1: x.append(nn[Ltmove[1]][kk]);\n",
    "            neighlist[2] = (x*1); x = [];\n",
    "            for kk in xrange(len(nn[Ltmove[-2]])):\n",
    "                if Citosol.count(nn[Ltmove[-2]][kk]) == 1: x.append(nn[Ltmove[-2]][kk]);\n",
    "            neighlist[Len+1] = (x*1);\n",
    "            for kk in xrange(Len-2):\n",
    "                jj = kk + 1; x = []; y = [];\n",
    "                for zz in xrange(len(nn[Ltmove[jj-1]])):\n",
    "                    if Citosol.count(nn[Ltmove[jj-1]][zz]) == 1: x.append(nn[Ltmove[jj-1]][zz]);\n",
    "                for zz in xrange(len(nn[Ltmove[jj+1]])):\n",
    "                    if Citosol.count(nn[Ltmove[jj+1]][zz]) == 1: y.append(nn[Ltmove[jj+1]][zz]);\n",
    "                z = set(x) & set(y); z = list(z); neighlist[jj + 2] = (z*1);\n",
    "            prob=[]; ##Select possible move\n",
    "            for kk in xrange(Len+2): prob.append(len(neighlist[kk]));\n",
    "            if sum(prob) != 0: \n",
    "                prob = np.float_(prob)/sum(prob); SelMove = int(np.random.choice(range(Len+2),1,False,prob));\n",
    "                if SelMove == 0: ##Rept. Hidrophilic head\n",
    "                    Loc = np.random.choice(neighlist[0]); Ltmove = list(np.concatenate(([Loc],Ltmove))); \n",
    "                    if Water.count(Loc) == 1: Water.remove(Loc); Water.append(Ltmove[-1]); Ltmove.pop(-1);\n",
    "                    else: Oil.remove(Loc); Oil.append(Ltmove[-1]); Ltmove.pop(-1);\n",
    "                    Lipids[index] = Ltmove; move = True;\n",
    "                elif SelMove == 1: ##Rept. of the Tail\n",
    "                    Loc = np.random.choice(neighlist[1]); Ltmove = list(np.concatenate((Ltmove,[Loc]))); \n",
    "                    if Water.count(Loc) == 1: Water.remove(Loc); Water.append(Ltmove[0]); Ltmove.pop(0);\n",
    "                    else: Oil.remove(Loc); Oil.append(Ltmove[0]); Ltmove.pop(0);\n",
    "                    Lipids[index] = Ltmove; move = True;\n",
    "                else: ##Despl \n",
    "                    Loc = np.random.choice(neighlist[SelMove]); \n",
    "                    if Water.count(Loc) == 1: Water.remove(Loc); Water.append(Ltmove[SelMove-2]); Ltmove[SelMove-2] = Loc;\n",
    "                    else: Oil.remove(Loc); Oil.append(Ltmove[SelMove-2]); Ltmove[SelMove-2] = Loc;\n",
    "                    Lipids[index] = Ltmove; move = True;\n",
    "    return Lipids, Water, Oil"
   ]
  },
  {
   "cell_type": "code",
   "execution_count": 739,
   "metadata": {
    "collapsed": true
   },
   "outputs": [],
   "source": [
    "def Ham(Lipids, Water, Oil):\n",
    "    M = np.ones(Lc**2); M[Water] = -1; H = 0;\n",
    "    for kk in xrange(Ns): M[Lipids[kk][:2]] = -1;\n",
    "    M = np.int_(M);\n",
    "    for kk in xrange(Lc**2):\n",
    "        for jj in nn[kk]:\n",
    "            state = M[kk];\n",
    "            if M[jj] == state: H += -1;\n",
    "            else: H += 1;\n",
    "    return H"
   ]
  },
  {
   "cell_type": "code",
   "execution_count": 740,
   "metadata": {},
   "outputs": [],
   "source": [
    "def Matrix(Lipids,Water,Oil):\n",
    "    M = np.zeros(Lc**2);  \n",
    "    for ii in Oil: M[ii] = 2;\n",
    "    ColorW = np.linspace(0.3,0.5,Wm); ColorO = np.linspace(1.4,1.8,Om);\n",
    "    for ii in xrange(Ns): M[Lipids[ii][:Wm]] = ColorW; M[Lipids[ii][Wm:]] = ColorO;\n",
    "    M = np.reshape(M,(Lc,Lc)); \n",
    "    plt.imshow(M,cmap='plasma'); "
   ]
  },
  {
   "cell_type": "code",
   "execution_count": 775,
   "metadata": {},
   "outputs": [
    {
     "data": {
      "image/png": "[encoded data removed]",
      "text/plain": [
       "<matplotlib.figure.Figure at 0x114ad7b50>"
      ]
     },
     "metadata": {},
     "output_type": "display_data"
    }
   ],
   "source": [
    "##Params\n",
    "Lc, Ns, Wp = 50, 150, 1.;\n",
    "Om, Wm = 4, 2; Len = Om + Wm;\n",
    "T = 1; beta = 1./T;\n",
    "McSteps = 100;\n",
    "##Inicialitzation\n",
    "nn = Neigh8_P(Lc); \n",
    "Lipids, Water, Oil = Ini(Lc,Ns,Wp,Len);\n",
    "##Initial State\n",
    "plt.figure(1,dpi=150)\n",
    "plt.subplot(1,2,1);\n",
    "Matrix(Lipids,Water,Oil);\n",
    "plt.title('Initial State'); plt.xticks([]); plt.yticks([]);\n",
    "##MonteCarlo\n",
    "H_old = Ham(Lipids,Water,Oil);\n",
    "for zz in xrange(Lc**2*McSteps):\n",
    "    Lipids_old = [[]]*Ns; Water_old = copy.copy(Water); Oil_old = copy.copy(Oil);\n",
    "    for kk in xrange(Ns): Lipids_old[kk] = Lipids[kk]*1;\n",
    "    Lipids, Water, Oil = Move(Lipids, Water, Oil);\n",
    "    H_new = Ham(Lipids,Water,Oil); deltaH =  H_new - H_old; \n",
    "    if np.random.rand() < np.exp(-beta*deltaH): H_old = H_new*1;\n",
    "    else: Lipids = Lipids_old*1; Water = Water_old*1; Oil = Oil_old*1;\n",
    "##Final State\n",
    "plt.subplot(1,2,2);\n",
    "Matrix(Lipids,Water,Oil);\n",
    "plt.title('Final State');plt.xticks([]); plt.yticks([]);"
   ]
  }
 ],
 "metadata": {
  "kernelspec": {
   "display_name": "Python 2",
   "language": "python",
   "name": "python2"
  },
  "language_info": {
   "codemirror_mode": {
    "name": "ipython",
    "version": 2
   },
   "file_extension": ".py",
   "mimetype": "text/x-python",
   "name": "python",
   "nbconvert_exporter": "python",
   "pygments_lexer": "ipython2",
   "version": "2.7.13"
  }
 },
 "nbformat": 4,
 "nbformat_minor": 2
}